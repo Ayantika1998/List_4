{
  "nbformat": 4,
  "nbformat_minor": 0,
  "metadata": {
    "colab": {
      "name": "List_Set.ipynb",
      "provenance": [],
      "authorship_tag": "ABX9TyNOMT8VnFvSDzZ5ErihpUUx",
      "include_colab_link": true
    },
    "kernelspec": {
      "name": "python3",
      "display_name": "Python 3"
    },
    "language_info": {
      "name": "python"
    }
  },
  "cells": [
    {
      "cell_type": "markdown",
      "metadata": {
        "id": "view-in-github",
        "colab_type": "text"
      },
      "source": [
        "<a href=\"https://colab.research.google.com/github/Ayantika1998/List_4/blob/main/List.ipynb\" target=\"_parent\"><img src=\"https://colab.research.google.com/assets/colab-badge.svg\" alt=\"Open In Colab\"/></a>"
      ]
    },
    {
      "cell_type": "code",
      "execution_count": 1,
      "metadata": {
        "colab": {
          "base_uri": "https://localhost:8080/"
        },
        "id": "YIrHcwDEqyIV",
        "outputId": "b1e2d3dc-57e9-4fa4-aba2-6d6940edfb8f"
      },
      "outputs": [
        {
          "output_type": "stream",
          "name": "stdout",
          "text": [
            "specify number of elements: 4\n",
            "Enter No.2\n",
            "Enter No.2\n",
            "Enter No.6\n",
            "Enter No.6\n",
            "[2, 2, 6, 6]\n"
          ]
        }
      ],
      "source": [
        "lst = []\n",
        "n = int(input(\"specify number of elements: \"))\n",
        "for i in range(0,n):\n",
        "  ele = int(input(\"Enter No.\"))\n",
        "  lst.append(ele)\n",
        "\n",
        "print(lst)"
      ]
    },
    {
      "cell_type": "code",
      "source": [
        "lst2 = set(lst)\n",
        "print(lst2)"
      ],
      "metadata": {
        "colab": {
          "base_uri": "https://localhost:8080/"
        },
        "id": "bSa9VVrdq6It",
        "outputId": "4d8e7102-99f9-4c6f-c20b-286f6f7ef23c"
      },
      "execution_count": 2,
      "outputs": [
        {
          "output_type": "stream",
          "name": "stdout",
          "text": [
            "{2, 6}\n"
          ]
        }
      ]
    }
  ]
}